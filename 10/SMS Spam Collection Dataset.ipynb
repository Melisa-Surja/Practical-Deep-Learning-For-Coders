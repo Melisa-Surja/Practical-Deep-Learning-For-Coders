{
 "cells": [
  {
   "cell_type": "markdown",
   "metadata": {},
   "source": [
    "# About this project\n",
    "\n",
    "- Summarize your objectives for this NLP project - what you want to achieve\n",
    "> Being able to detect spam text messages \n",
    "\n",
    "- Describe the text preprocessing you do, including EDA\n",
    "> load csv file with pandas, remove duplicate data (about ~400 records are duplicates)\n",
    "\n",
    "- Build your model and pick relevant metrics. Train a baseline\n",
    "> Accuracy for metrics\n",
    "\n",
    "- Show which approach you take to increase the performance of the model\n",
    "> Pretraining the model with Language Model before training a classifier and use the encoder"
   ]
  },
  {
   "cell_type": "markdown",
   "metadata": {},
   "source": [
    "# Install Dependencies"
   ]
  },
  {
   "cell_type": "code",
   "execution_count": 1,
   "metadata": {},
   "outputs": [],
   "source": [
    "import fastbook\n",
    "fastbook.setup_book()\n",
    "from fastbook import *\n",
    "from fastai.text.all import *"
   ]
  },
  {
   "cell_type": "markdown",
   "metadata": {},
   "source": [
    "# Load Data"
   ]
  },
  {
   "cell_type": "code",
   "execution_count": 2,
   "metadata": {},
   "outputs": [
    {
     "data": {
      "text/html": [
       "<div>\n",
       "<style scoped>\n",
       "    .dataframe tbody tr th:only-of-type {\n",
       "        vertical-align: middle;\n",
       "    }\n",
       "\n",
       "    .dataframe tbody tr th {\n",
       "        vertical-align: top;\n",
       "    }\n",
       "\n",
       "    .dataframe thead th {\n",
       "        text-align: right;\n",
       "    }\n",
       "</style>\n",
       "<table border=\"1\" class=\"dataframe\">\n",
       "  <thead>\n",
       "    <tr style=\"text-align: right;\">\n",
       "      <th></th>\n",
       "      <th>SPAM</th>\n",
       "      <th>Message</th>\n",
       "    </tr>\n",
       "  </thead>\n",
       "  <tbody>\n",
       "    <tr>\n",
       "      <th>0</th>\n",
       "      <td>ham</td>\n",
       "      <td>Go until jurong point, crazy.. Available only in bugis n great world la e buffet... Cine there got amore wat...</td>\n",
       "    </tr>\n",
       "    <tr>\n",
       "      <th>1</th>\n",
       "      <td>ham</td>\n",
       "      <td>Ok lar... Joking wif u oni...</td>\n",
       "    </tr>\n",
       "    <tr>\n",
       "      <th>2</th>\n",
       "      <td>spam</td>\n",
       "      <td>Free entry in 2 a wkly comp to win FA Cup final tkts 21st May 2005. Text FA to 87121 to receive entry question(std txt rate)T&amp;C's apply 08452810075over18's</td>\n",
       "    </tr>\n",
       "    <tr>\n",
       "      <th>3</th>\n",
       "      <td>ham</td>\n",
       "      <td>U dun say so early hor... U c already then say...</td>\n",
       "    </tr>\n",
       "    <tr>\n",
       "      <th>4</th>\n",
       "      <td>ham</td>\n",
       "      <td>Nah I don't think he goes to usf, he lives around here though</td>\n",
       "    </tr>\n",
       "  </tbody>\n",
       "</table>\n",
       "</div>"
      ],
      "text/plain": [
       "   SPAM  \\\n",
       "0   ham   \n",
       "1   ham   \n",
       "2  spam   \n",
       "3   ham   \n",
       "4   ham   \n",
       "\n",
       "                                                                                                                                                       Message  \n",
       "0                                              Go until jurong point, crazy.. Available only in bugis n great world la e buffet... Cine there got amore wat...  \n",
       "1                                                                                                                                Ok lar... Joking wif u oni...  \n",
       "2  Free entry in 2 a wkly comp to win FA Cup final tkts 21st May 2005. Text FA to 87121 to receive entry question(std txt rate)T&C's apply 08452810075over18's  \n",
       "3                                                                                                            U dun say so early hor... U c already then say...  \n",
       "4                                                                                                Nah I don't think he goes to usf, he lives around here though  "
      ]
     },
     "execution_count": 2,
     "metadata": {},
     "output_type": "execute_result"
    }
   ],
   "source": [
    "ds_folder = Path('../../Datasets/SMS Spam Collection Dataset')\n",
    "ds_sms = pd.read_csv(ds_folder/'spam.csv', \n",
    "                        usecols=[0,1],\n",
    "                        names=['SPAM','Message'],\n",
    "                        header=0, \n",
    "                        low_memory=False)\n",
    "ds_sms.head()"
   ]
  },
  {
   "cell_type": "code",
   "execution_count": 3,
   "metadata": {},
   "outputs": [],
   "source": [
    "ds_sms.drop_duplicates(['Message'], inplace=True)"
   ]
  },
  {
   "cell_type": "markdown",
   "metadata": {},
   "source": [
    "# Sanitize Data"
   ]
  },
  {
   "cell_type": "code",
   "execution_count": 4,
   "metadata": {},
   "outputs": [],
   "source": [
    "clean_folder = Path(ds_folder/'clean')\n",
    "train_folder = Path(clean_folder/'train')\n",
    "valid_folder = Path(clean_folder/'valid')\n",
    "train_valid_perc = 0.8 # how much of the file is train\n",
    "\n",
    "# remove train and valid files if exist\n",
    "if train_folder.exists():\n",
    "    shutil.rmtree(train_folder)\n",
    "os.mkdir(train_folder)\n",
    "if valid_folder.exists():\n",
    "    shutil.rmtree(valid_folder)\n",
    "os.mkdir(valid_folder)\n",
    "    \n",
    "# Save to new folder\n",
    "for index, row in ds_sms.iterrows():\n",
    "    folder = train_folder if index/len(ds_sms) <= train_valid_perc else valid_folder\n",
    "    # ham or spam\n",
    "    folder = Path(folder/row['SPAM'])\n",
    "    # Make the folder if it doesn't exist yet\n",
    "    if not folder.exists():\n",
    "        os.mkdir(folder)\n",
    "    filename = str(index) + \".txt\"\n",
    "    \n",
    "    # Clean unicodes\n",
    "    msg = re.sub('[\\s\\n]',' ', row['Message'])\n",
    "    msg = re.sub('[^\\w\\.,:;\\'\\\"\\(\\)\\?\\-!\\n\\s]', '', msg)\n",
    "    \n",
    "    # DELETE REMAINING UNICODES\n",
    "    msg = msg.encode('ascii','ignore').decode('utf-8')\n",
    "    \n",
    "    clean_file = open(folder/filename, \"w\", encoding='utf8') \n",
    "    clean_file.write(msg)\n",
    "    clean_file.close()"
   ]
  },
  {
   "cell_type": "markdown",
   "metadata": {},
   "source": [
    "# Tokenize"
   ]
  },
  {
   "cell_type": "code",
   "execution_count": 5,
   "metadata": {},
   "outputs": [
    {
     "data": {
      "text/plain": [
       "Path('../../Datasets/SMS Spam Collection Dataset/clean_tok')"
      ]
     },
     "execution_count": 5,
     "metadata": {},
     "output_type": "execute_result"
    }
   ],
   "source": [
    "# remove clean_tok dir\n",
    "outdir = Path(ds_folder/'clean_tok')\n",
    "if outdir.exists():\n",
    "    shutil.rmtree(outdir)\n",
    "    \n",
    "# Save toks without error\n",
    "tokenize_folder(clean_folder,folders=['train','valid'], n_workers=0)"
   ]
  },
  {
   "cell_type": "markdown",
   "metadata": {},
   "source": [
    "# Language Model Pretraining"
   ]
  },
  {
   "cell_type": "code",
   "execution_count": 6,
   "metadata": {},
   "outputs": [],
   "source": [
    "dls_lm = DataBlock(\n",
    "    blocks=TextBlock.from_folder(clean_folder, is_lm=True),\n",
    "    get_items=partial(get_text_files, folders=['train', 'valid']), \n",
    "    splitter=GrandparentSplitter()\n",
    ").dataloaders(clean_folder, path=clean_folder, bs=128, seq_len=80, num_workers=0)"
   ]
  },
  {
   "cell_type": "code",
   "execution_count": 7,
   "metadata": {
    "scrolled": true
   },
   "outputs": [
    {
     "data": {
      "text/html": [
       "<table border=\"1\" class=\"dataframe\">\n",
       "  <thead>\n",
       "    <tr style=\"text-align: right;\">\n",
       "      <th></th>\n",
       "      <th>text</th>\n",
       "      <th>text_</th>\n",
       "    </tr>\n",
       "  </thead>\n",
       "  <tbody>\n",
       "    <tr>\n",
       "      <th>0</th>\n",
       "      <td>xxbos xxmaj unless it 's a situation where xxup you xxup go xxup xxunk would be more xxunk xxbos i want to tel u one thing u should not mistake me k xxup this xxup is xxup the xxup message xxup that xxup you xxup sent : ) xxbos xxmaj nope watching tv at home … xxmaj not going out . v bored … xxbos xxmaj todays xxmaj voda numbers ending xxunk are selected to receive a xxunk . xxmaj</td>\n",
       "      <td>xxmaj unless it 's a situation where xxup you xxup go xxup xxunk would be more xxunk xxbos i want to tel u one thing u should not mistake me k xxup this xxup is xxup the xxup message xxup that xxup you xxup sent : ) xxbos xxmaj nope watching tv at home … xxmaj not going out . v bored … xxbos xxmaj todays xxmaj voda numbers ending xxunk are selected to receive a xxunk . xxmaj if</td>\n",
       "    </tr>\n",
       "    <tr>\n",
       "      <th>1</th>\n",
       "      <td>. xxmaj gary would freak on me if he knew xxbos xxmaj yun xxunk ubi one say if _ wan call by xxunk xxunk look for xxunk only got xxunk . xxmaj ubi xxunk , ubi xxunk xxunk for 1st xxunk xxunk xxbos xxmaj xxunk she knew the time of xxunk exactly xxbos xxmaj nobody can decide where to eat and dad wants xxmaj chinese xxbos xxmaj do u xxunk xxunk is xxunk xxup friendship xxmaj i m xxunk xxunk</td>\n",
       "      <td>xxmaj gary would freak on me if he knew xxbos xxmaj yun xxunk ubi one say if _ wan call by xxunk xxunk look for xxunk only got xxunk . xxmaj ubi xxunk , ubi xxunk xxunk for 1st xxunk xxunk xxbos xxmaj xxunk she knew the time of xxunk exactly xxbos xxmaj nobody can decide where to eat and dad wants xxmaj chinese xxbos xxmaj do u xxunk xxunk is xxunk xxup friendship xxmaj i m xxunk xxunk an</td>\n",
       "    </tr>\n",
       "  </tbody>\n",
       "</table>"
      ],
      "text/plain": [
       "<IPython.core.display.HTML object>"
      ]
     },
     "metadata": {},
     "output_type": "display_data"
    }
   ],
   "source": [
    "dls_lm.show_batch(max_n=2)"
   ]
  },
  {
   "cell_type": "markdown",
   "metadata": {},
   "source": [
    "# Train LM"
   ]
  },
  {
   "cell_type": "code",
   "execution_count": 8,
   "metadata": {},
   "outputs": [],
   "source": [
    "learn = language_model_learner(\n",
    "    dls_lm, AWD_LSTM, \n",
    "    metrics=Perplexity()).to_fp16()"
   ]
  },
  {
   "cell_type": "code",
   "execution_count": 9,
   "metadata": {},
   "outputs": [
    {
     "data": {
      "text/html": [
       "<table border=\"1\" class=\"dataframe\">\n",
       "  <thead>\n",
       "    <tr style=\"text-align: left;\">\n",
       "      <th>epoch</th>\n",
       "      <th>train_loss</th>\n",
       "      <th>valid_loss</th>\n",
       "      <th>perplexity</th>\n",
       "      <th>time</th>\n",
       "    </tr>\n",
       "  </thead>\n",
       "  <tbody>\n",
       "    <tr>\n",
       "      <td>0</td>\n",
       "      <td>6.137961</td>\n",
       "      <td>5.699726</td>\n",
       "      <td>298.785400</td>\n",
       "      <td>00:04</td>\n",
       "    </tr>\n",
       "    <tr>\n",
       "      <td>1</td>\n",
       "      <td>5.931959</td>\n",
       "      <td>5.101884</td>\n",
       "      <td>164.331192</td>\n",
       "      <td>00:03</td>\n",
       "    </tr>\n",
       "    <tr>\n",
       "      <td>2</td>\n",
       "      <td>5.611384</td>\n",
       "      <td>4.553658</td>\n",
       "      <td>94.979210</td>\n",
       "      <td>00:03</td>\n",
       "    </tr>\n",
       "    <tr>\n",
       "      <td>3</td>\n",
       "      <td>5.297559</td>\n",
       "      <td>4.279039</td>\n",
       "      <td>72.171043</td>\n",
       "      <td>00:03</td>\n",
       "    </tr>\n",
       "    <tr>\n",
       "      <td>4</td>\n",
       "      <td>5.035546</td>\n",
       "      <td>4.151462</td>\n",
       "      <td>63.526814</td>\n",
       "      <td>00:03</td>\n",
       "    </tr>\n",
       "  </tbody>\n",
       "</table>"
      ],
      "text/plain": [
       "<IPython.core.display.HTML object>"
      ]
     },
     "metadata": {},
     "output_type": "display_data"
    },
    {
     "data": {
      "text/html": [
       "<table border=\"1\" class=\"dataframe\">\n",
       "  <thead>\n",
       "    <tr style=\"text-align: left;\">\n",
       "      <th>epoch</th>\n",
       "      <th>train_loss</th>\n",
       "      <th>valid_loss</th>\n",
       "      <th>perplexity</th>\n",
       "      <th>time</th>\n",
       "    </tr>\n",
       "  </thead>\n",
       "  <tbody>\n",
       "    <tr>\n",
       "      <td>0</td>\n",
       "      <td>4.152797</td>\n",
       "      <td>4.073032</td>\n",
       "      <td>58.734798</td>\n",
       "      <td>00:03</td>\n",
       "    </tr>\n",
       "    <tr>\n",
       "      <td>1</td>\n",
       "      <td>4.098110</td>\n",
       "      <td>4.007242</td>\n",
       "      <td>54.994995</td>\n",
       "      <td>00:03</td>\n",
       "    </tr>\n",
       "    <tr>\n",
       "      <td>2</td>\n",
       "      <td>4.028577</td>\n",
       "      <td>3.953183</td>\n",
       "      <td>52.100964</td>\n",
       "      <td>00:03</td>\n",
       "    </tr>\n",
       "    <tr>\n",
       "      <td>3</td>\n",
       "      <td>3.953497</td>\n",
       "      <td>3.889610</td>\n",
       "      <td>48.891792</td>\n",
       "      <td>00:03</td>\n",
       "    </tr>\n",
       "    <tr>\n",
       "      <td>4</td>\n",
       "      <td>3.868223</td>\n",
       "      <td>3.851177</td>\n",
       "      <td>47.048416</td>\n",
       "      <td>00:03</td>\n",
       "    </tr>\n",
       "    <tr>\n",
       "      <td>5</td>\n",
       "      <td>3.802601</td>\n",
       "      <td>3.835580</td>\n",
       "      <td>46.320290</td>\n",
       "      <td>00:03</td>\n",
       "    </tr>\n",
       "    <tr>\n",
       "      <td>6</td>\n",
       "      <td>3.730897</td>\n",
       "      <td>3.812164</td>\n",
       "      <td>45.248253</td>\n",
       "      <td>00:03</td>\n",
       "    </tr>\n",
       "    <tr>\n",
       "      <td>7</td>\n",
       "      <td>3.659305</td>\n",
       "      <td>3.804820</td>\n",
       "      <td>44.917156</td>\n",
       "      <td>00:03</td>\n",
       "    </tr>\n",
       "    <tr>\n",
       "      <td>8</td>\n",
       "      <td>3.602732</td>\n",
       "      <td>3.802898</td>\n",
       "      <td>44.830936</td>\n",
       "      <td>00:03</td>\n",
       "    </tr>\n",
       "    <tr>\n",
       "      <td>9</td>\n",
       "      <td>3.553962</td>\n",
       "      <td>3.802351</td>\n",
       "      <td>44.806389</td>\n",
       "      <td>00:03</td>\n",
       "    </tr>\n",
       "  </tbody>\n",
       "</table>"
      ],
      "text/plain": [
       "<IPython.core.display.HTML object>"
      ]
     },
     "metadata": {},
     "output_type": "display_data"
    }
   ],
   "source": [
    "learn.fine_tune(10, 2e-2, freeze_epochs=5)"
   ]
  },
  {
   "cell_type": "code",
   "execution_count": 10,
   "metadata": {},
   "outputs": [],
   "source": [
    "learn.save_encoder('SMS_LM_encoder')"
   ]
  },
  {
   "cell_type": "markdown",
   "metadata": {},
   "source": [
    "# Classifier"
   ]
  },
  {
   "cell_type": "code",
   "execution_count": 11,
   "metadata": {},
   "outputs": [],
   "source": [
    "db = DataBlock(\n",
    "    blocks=(TextBlock.from_folder(clean_folder, vocab=dls_lm.vocab), CategoryBlock),\n",
    "    get_y = parent_label,\n",
    "    get_items=partial(get_text_files, folders=['train', 'valid']),\n",
    "    splitter=GrandparentSplitter()\n",
    ")"
   ]
  },
  {
   "cell_type": "code",
   "execution_count": 12,
   "metadata": {},
   "outputs": [],
   "source": [
    "dls_clas = db.dataloaders(clean_folder, path=clean_folder, bs=128, seq_len=72, num_workers=0)"
   ]
  },
  {
   "cell_type": "code",
   "execution_count": 13,
   "metadata": {},
   "outputs": [
    {
     "data": {
      "text/html": [
       "<table border=\"1\" class=\"dataframe\">\n",
       "  <thead>\n",
       "    <tr style=\"text-align: right;\">\n",
       "      <th></th>\n",
       "      <th>text</th>\n",
       "      <th>category</th>\n",
       "    </tr>\n",
       "  </thead>\n",
       "  <tbody>\n",
       "    <tr>\n",
       "      <th>0</th>\n",
       "      <td>xxbos xxmaj the last thing i ever wanted to do was hurt you . xxmaj and i did n't think it would have . xxmaj you 'd laugh , be embarassed , xxunk the xxunk and keep going . xxmaj but as far as i knew , it was n't even up . xxmaj the fact that you even felt like i would do it to hurt you shows you really do n't know me at all . xxmaj it was xxunk wednesday , but it was n't bad . xxmaj the problem i have with it is you xxup have the time to clean it , but you choose not to . xxmaj you skype , you take pictures , you sleep , you want to go out . i do n't mind a few things here and there , but when you do n't make the bed ,</td>\n",
       "      <td>ham</td>\n",
       "    </tr>\n",
       "    <tr>\n",
       "      <th>1</th>\n",
       "      <td>xxbos xxmaj sad story of a xxmaj man - xxmaj last week was my b'day . xxmaj my xxmaj wife xxunk wish me . xxmaj my xxmaj parents forgot n so did my xxmaj kids . i went to work . xxmaj even my xxmaj colleagues did not wish . xxmaj as i entered my xxunk my xxup pa said , '' xxmaj happy xxmaj b'day xxmaj boss ! ! '' . i felt special . xxmaj she askd me 4 lunch . xxmaj after lunch she invited me to her apartment . xxmaj we went there . xxmaj she said , ' ' do u mind if i go into the bedroom for a minute ? '' ' ' ok ' ' , i sed in a sexy mood . xxmaj she came out 5 xxunk xxunk wid a cake … n xxmaj my xxmaj wife , xxmaj my</td>\n",
       "      <td>ham</td>\n",
       "    </tr>\n",
       "    <tr>\n",
       "      <th>2</th>\n",
       "      <td>xxbos xxmaj for me the love should start with xxunk should feel that i need her every time around xxunk should be the first thing which comes in my xxunk would start the day and end it with xxunk should be there every time i xxunk will be then when my every xxunk has her xxunk life should happen around xxunk life will be xxunk to xxunk would cry for xxunk give all my happiness and take all her xxunk will be ready to fight with anyone for xxunk will be in love when i will be doing the xxunk things for xxunk will be when i do n't have to xxunk anyone that my girl is the most beautiful lady on the whole xxunk will always be xxunk xxunk for xxunk will be when i start up making chicken xxunk and end up xxunk xxunk will be the most</td>\n",
       "      <td>ham</td>\n",
       "    </tr>\n",
       "  </tbody>\n",
       "</table>"
      ],
      "text/plain": [
       "<IPython.core.display.HTML object>"
      ]
     },
     "metadata": {},
     "output_type": "display_data"
    }
   ],
   "source": [
    "dls_clas.show_batch(max_n=3)"
   ]
  },
  {
   "cell_type": "markdown",
   "metadata": {},
   "source": [
    "# Train Classifier"
   ]
  },
  {
   "cell_type": "code",
   "execution_count": 19,
   "metadata": {},
   "outputs": [],
   "source": [
    "learn2 = text_classifier_learner(dls_clas, AWD_LSTM, metrics=accuracy).to_fp16()"
   ]
  },
  {
   "cell_type": "code",
   "execution_count": 20,
   "metadata": {},
   "outputs": [],
   "source": [
    "learn2 = learn2.load_encoder('SMS_LM_encoder')"
   ]
  },
  {
   "cell_type": "code",
   "execution_count": 16,
   "metadata": {},
   "outputs": [
    {
     "data": {
      "text/html": [],
      "text/plain": [
       "<IPython.core.display.HTML object>"
      ]
     },
     "metadata": {},
     "output_type": "display_data"
    },
    {
     "data": {
      "text/plain": [
       "SuggestedLRs(lr_min=0.05248074531555176, lr_steep=0.0020892962347716093)"
      ]
     },
     "execution_count": 16,
     "metadata": {},
     "output_type": "execute_result"
    },
    {
     "data": {
      "image/png": "[encoded data removed]",
      "text/plain": [
       "<Figure size 432x288 with 1 Axes>"
      ]
     },
     "metadata": {
      "needs_background": "light"
     },
     "output_type": "display_data"
    }
   ],
   "source": [
    "learn2.lr_find()"
   ]
  },
  {
   "cell_type": "code",
   "execution_count": 21,
   "metadata": {},
   "outputs": [
    {
     "data": {
      "text/html": [
       "<table border=\"1\" class=\"dataframe\">\n",
       "  <thead>\n",
       "    <tr style=\"text-align: left;\">\n",
       "      <th>epoch</th>\n",
       "      <th>train_loss</th>\n",
       "      <th>valid_loss</th>\n",
       "      <th>accuracy</th>\n",
       "      <th>time</th>\n",
       "    </tr>\n",
       "  </thead>\n",
       "  <tbody>\n",
       "    <tr>\n",
       "      <td>0</td>\n",
       "      <td>0.851484</td>\n",
       "      <td>0.445767</td>\n",
       "      <td>0.930016</td>\n",
       "      <td>00:04</td>\n",
       "    </tr>\n",
       "    <tr>\n",
       "      <td>1</td>\n",
       "      <td>0.773614</td>\n",
       "      <td>0.362921</td>\n",
       "      <td>0.912908</td>\n",
       "      <td>00:04</td>\n",
       "    </tr>\n",
       "    <tr>\n",
       "      <td>2</td>\n",
       "      <td>0.725457</td>\n",
       "      <td>0.292435</td>\n",
       "      <td>0.935459</td>\n",
       "      <td>00:04</td>\n",
       "    </tr>\n",
       "    <tr>\n",
       "      <td>3</td>\n",
       "      <td>0.683484</td>\n",
       "      <td>0.288392</td>\n",
       "      <td>0.946345</td>\n",
       "      <td>00:04</td>\n",
       "    </tr>\n",
       "    <tr>\n",
       "      <td>4</td>\n",
       "      <td>0.644540</td>\n",
       "      <td>0.256373</td>\n",
       "      <td>0.954899</td>\n",
       "      <td>00:04</td>\n",
       "    </tr>\n",
       "  </tbody>\n",
       "</table>"
      ],
      "text/plain": [
       "<IPython.core.display.HTML object>"
      ]
     },
     "metadata": {},
     "output_type": "display_data"
    },
    {
     "data": {
      "text/html": [
       "<table border=\"1\" class=\"dataframe\">\n",
       "  <thead>\n",
       "    <tr style=\"text-align: left;\">\n",
       "      <th>epoch</th>\n",
       "      <th>train_loss</th>\n",
       "      <th>valid_loss</th>\n",
       "      <th>accuracy</th>\n",
       "      <th>time</th>\n",
       "    </tr>\n",
       "  </thead>\n",
       "  <tbody>\n",
       "    <tr>\n",
       "      <td>0</td>\n",
       "      <td>0.542218</td>\n",
       "      <td>0.243838</td>\n",
       "      <td>0.953344</td>\n",
       "      <td>00:04</td>\n",
       "    </tr>\n",
       "    <tr>\n",
       "      <td>1</td>\n",
       "      <td>0.522955</td>\n",
       "      <td>0.172062</td>\n",
       "      <td>0.973561</td>\n",
       "      <td>00:04</td>\n",
       "    </tr>\n",
       "    <tr>\n",
       "      <td>2</td>\n",
       "      <td>0.501530</td>\n",
       "      <td>0.191848</td>\n",
       "      <td>0.961120</td>\n",
       "      <td>00:04</td>\n",
       "    </tr>\n",
       "    <tr>\n",
       "      <td>3</td>\n",
       "      <td>0.460811</td>\n",
       "      <td>0.151590</td>\n",
       "      <td>0.981337</td>\n",
       "      <td>00:04</td>\n",
       "    </tr>\n",
       "    <tr>\n",
       "      <td>4</td>\n",
       "      <td>0.417692</td>\n",
       "      <td>0.123923</td>\n",
       "      <td>0.982893</td>\n",
       "      <td>00:04</td>\n",
       "    </tr>\n",
       "    <tr>\n",
       "      <td>5</td>\n",
       "      <td>0.378669</td>\n",
       "      <td>0.134877</td>\n",
       "      <td>0.973561</td>\n",
       "      <td>00:04</td>\n",
       "    </tr>\n",
       "    <tr>\n",
       "      <td>6</td>\n",
       "      <td>0.343899</td>\n",
       "      <td>0.091008</td>\n",
       "      <td>0.980560</td>\n",
       "      <td>00:04</td>\n",
       "    </tr>\n",
       "    <tr>\n",
       "      <td>7</td>\n",
       "      <td>0.316234</td>\n",
       "      <td>0.123774</td>\n",
       "      <td>0.972006</td>\n",
       "      <td>00:04</td>\n",
       "    </tr>\n",
       "    <tr>\n",
       "      <td>8</td>\n",
       "      <td>0.292876</td>\n",
       "      <td>0.084142</td>\n",
       "      <td>0.982893</td>\n",
       "      <td>00:04</td>\n",
       "    </tr>\n",
       "    <tr>\n",
       "      <td>9</td>\n",
       "      <td>0.282735</td>\n",
       "      <td>0.085567</td>\n",
       "      <td>0.983670</td>\n",
       "      <td>00:04</td>\n",
       "    </tr>\n",
       "  </tbody>\n",
       "</table>"
      ],
      "text/plain": [
       "<IPython.core.display.HTML object>"
      ]
     },
     "metadata": {},
     "output_type": "display_data"
    }
   ],
   "source": [
    "learn2.fine_tune(10, 1e-3, freeze_epochs=5)"
   ]
  },
  {
   "cell_type": "code",
   "execution_count": 22,
   "metadata": {},
   "outputs": [
    {
     "data": {
      "text/html": [],
      "text/plain": [
       "<IPython.core.display.HTML object>"
      ]
     },
     "metadata": {},
     "output_type": "display_data"
    },
    {
     "data": {
      "text/html": [
       "<table border=\"1\" class=\"dataframe\">\n",
       "  <thead>\n",
       "    <tr style=\"text-align: right;\">\n",
       "      <th></th>\n",
       "      <th>text</th>\n",
       "      <th>category</th>\n",
       "      <th>category_</th>\n",
       "    </tr>\n",
       "  </thead>\n",
       "  <tbody>\n",
       "    <tr>\n",
       "      <th>0</th>\n",
       "      <td>xxbos no , i did n't mean to post it . i xxunk it , and like so many other times i 've xxunk stuff to you , i let it sit there . it xxup was what i was feeling at the time . i was angry . xxmaj before i left , i hit send , then stop . xxmaj it was n't there . i checked on my phone when i got to my car . xxmaj it was n't there . xxmaj you said you did n't sleep , you were bored . xxmaj so why would n't xxup that be the time to clean , xxunk xxunk , etc . ? xxmaj at least make the bed ?</td>\n",
       "      <td>ham</td>\n",
       "      <td>ham</td>\n",
       "    </tr>\n",
       "    <tr>\n",
       "      <th>1</th>\n",
       "      <td>xxbos xxmaj and that is the problem . xxmaj you walk around in xxunk \" xxunk to what is going on around you . i say the same things constantly and they go in one xxunk and out the other while you go off doing whatever you want to do . xxmaj it 's not that you do n't know why xxmaj i 'm upset -- it 's that you do n't listen when i tell you xxup what is going to upset me . xxmaj then you want to be surprised when xxmaj i 'm mad . \"</td>\n",
       "      <td>ham</td>\n",
       "      <td>ham</td>\n",
       "    </tr>\n",
       "    <tr>\n",
       "      <th>2</th>\n",
       "      <td>xxbos xxmaj can you tell xxmaj xxunk to please go to college of medicine and visit the xxunk xxunk , tell the xxunk xxunk what the current situation is and ask if she can xxunk there . xxmaj she should ask someone to check xxmaj xxunk for the same thing and xxunk . xxmaj its xxunk she xxunk her medical xxunk in xxmaj nigeria . xxmaj its less expensive much less expensive . xxmaj unless she will be getting citizen rates in new xxunk .</td>\n",
       "      <td>ham</td>\n",
       "      <td>ham</td>\n",
       "    </tr>\n",
       "    <tr>\n",
       "      <th>3</th>\n",
       "      <td>xxbos xxmaj oh ! xxmaj shit , i thought that was your trip ! l xxrep 7 o l … xxmaj that just makes xxup so much more sense now … grins and the sofa reference was … xxmaj the sleep on a xxunk \" link you sent me … xxmaj was n't that how you went on your trip ? xxmaj oh … xxmaj and did n't your babe go with you for that xxunk with your xxunk ? \"</td>\n",
       "      <td>ham</td>\n",
       "      <td>ham</td>\n",
       "    </tr>\n",
       "    <tr>\n",
       "      <th>4</th>\n",
       "      <td>xxbos xxmaj it so happens that there r xxunk do wat you want . xxmaj she can come and ill get her medical insurance . xxmaj and she 'll be able to deliver and have basic care . xxmaj i 'm currently shopping for the right medical insurance for her . xxmaj so just give me til friday morning . xxmaj that s when i.ll see the major person that can guide me to the right insurance .</td>\n",
       "      <td>ham</td>\n",
       "      <td>ham</td>\n",
       "    </tr>\n",
       "    <tr>\n",
       "      <th>5</th>\n",
       "      <td>xxbos i know you are thinkin malaria . xxmaj but relax , children ca nt handle malaria . xxmaj she would have been worse and its xxunk . xxmaj if she takes enough to xxunk her loss her xxunk will xxunk . xxmaj and if you give her malaria meds now she will just vomit . xxmaj its a self xxunk xxunk she has which means in a few days it will completely stop</td>\n",
       "      <td>ham</td>\n",
       "      <td>ham</td>\n",
       "    </tr>\n",
       "    <tr>\n",
       "      <th>6</th>\n",
       "      <td>xxbos xxup hiya xxup xxunk xxup wot u xxup up xxunk xxup in xxup so xxup much xxup xxunk xxup at xxup home xxup at xxup moment xxup xxunk xxup xxunk xxup me xxup even xxup u ! xxup wot xxup the xxup hell xxup xxunk i xxup done xxup now ? y xxup wo nt u xxup just xxup tell xxup me xxup text xxup xxunk xxup please xxup luv xxup xxunk</td>\n",
       "      <td>ham</td>\n",
       "      <td>ham</td>\n",
       "    </tr>\n",
       "    <tr>\n",
       "      <th>7</th>\n",
       "      <td>xxbos xxmaj for you information , xxup ikea is xxunk with all xxunk . xxmaj that is not xxunk . when you thought i had left you , you were sitting on the bed among the xxunk when i came in . i said we were going after you got home from class . please do n't try and xxunk me . xxmaj it makes me want to listen to you less .</td>\n",
       "      <td>ham</td>\n",
       "      <td>ham</td>\n",
       "    </tr>\n",
       "    <tr>\n",
       "      <th>8</th>\n",
       "      <td>xxbos xxmaj you are a great role model . xxmaj you are giving so much and i really wish each day for a miracle but xxmaj god as a reason for everything and i must say i wish i knew why but i do nt . xxmaj i 've looked up to you since i was xxunk and i still do . xxmaj have a great day .</td>\n",
       "      <td>ham</td>\n",
       "      <td>ham</td>\n",
       "    </tr>\n",
       "  </tbody>\n",
       "</table>"
      ],
      "text/plain": [
       "<IPython.core.display.HTML object>"
      ]
     },
     "metadata": {},
     "output_type": "display_data"
    }
   ],
   "source": [
    "learn2.show_results()"
   ]
  },
  {
   "cell_type": "markdown",
   "metadata": {},
   "source": [
    "# Save Model"
   ]
  },
  {
   "cell_type": "code",
   "execution_count": 123,
   "metadata": {},
   "outputs": [],
   "source": [
    "learn2.export(fname='models/sms_spam.pkl')"
   ]
  },
  {
   "cell_type": "code",
   "execution_count": null,
   "metadata": {},
   "outputs": [],
   "source": []
  }
 ],
 "metadata": {
  "kernelspec": {
   "display_name": "Python 3",
   "language": "python",
   "name": "python3"
  },
  "language_info": {
   "codemirror_mode": {
    "name": "ipython",
    "version": 3
   },
   "file_extension": ".py",
   "mimetype": "text/x-python",
   "name": "python",
   "nbconvert_exporter": "python",
   "pygments_lexer": "ipython3",
   "version": "3.8.5"
  }
 },
 "nbformat": 4,
 "nbformat_minor": 4
}
